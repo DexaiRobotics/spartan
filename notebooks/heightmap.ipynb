{
 "cells": [
  {
   "cell_type": "code",
   "execution_count": 1,
   "metadata": {},
   "outputs": [],
   "source": [
    "import numpy as np\n",
    "import spartan.perception.utils as perception_utils\n",
    "import spartan.utils.utils as utils\n",
    "from spartan.perception.heightmap import HeightMap\n",
    "import ros\n",
    "import ros_numpy\n",
    "import rosbag\n",
    "import sensor_msgs"
   ]
  },
  {
   "cell_type": "code",
   "execution_count": 2,
   "metadata": {},
   "outputs": [
    {
     "name": "stdout",
     "output_type": "stream",
     "text": [
      "{'timestamp': 1542406969249120228, 'depth_image_filename': '000000_depth.png', 'camera_to_world': {'quaternion': {'y': 0.6767476461121406, 'x': -0.7072304726782698, 'z': -0.1659785680755306, 'w': 0.11953575589147176}, 'translation': {'y': -0.008085724235044224, 'x': 0.2970949015843446, 'z': 0.8270888615743923}}, 'rgb_image_filename': '000000_rgb.png'}\n"
     ]
    }
   ],
   "source": [
    "depth_img_filename = \"/home/manuelli/spartan/data_volume/pdc/logs_proto/2018-11-16-22-22-45/processed/images/000000_depth.png\"\n",
    "pose_data_filename = \"/home/manuelli/spartan/data_volume/pdc/logs_proto/2018-11-16-22-22-45/processed/images/pose_data.yaml\"\n",
    "pose_data = utils.getDictFromYamlFilename(pose_data_filename)\n",
    "camera_pose = pose_data[0]\n",
    "print camera_pose"
   ]
  },
  {
   "cell_type": "code",
   "execution_count": 3,
   "metadata": {
    "scrolled": true
   },
   "outputs": [
    {
     "name": "stdout",
     "output_type": "stream",
     "text": [
      "seq: 322\n",
      "stamp: \n",
      "  secs: 1543883513\n",
      "  nsecs: 225326769\n",
      "frame_id: \"camera_carmine_1_rgb_optical_frame\"\n",
      "(252557, 3)\n",
      "[[ 0.01437255 -0.99780307  0.064672    0.593     ]\n",
      " [-0.99862304 -0.01106066  0.05128041  0.027     ]\n",
      " [-0.05045244 -0.06531998 -0.99658811  0.588     ]\n",
      " [ 0.          0.          0.          1.        ]]\n",
      "0.0886278571361\n"
     ]
    }
   ],
   "source": [
    "ros_bag_filename = \"/home/manuelli/spartan/data_volume/spartan/rosbag/shoe_globalwin_brown_down_right_2018-12-04-00-31-51.bag\"\n",
    "ros_bag = rosbag.Bag(ros_bag_filename, \"r\")\n",
    "\n",
    "pointcloud_topic = \"/camera_carmine_1/depth_registered/points\"\n",
    "pointcloud_msg = None\n",
    "\n",
    "\n",
    "def copy_msg(msg):\n",
    "    new_msg = sensor_msgs.msg.PointCloud2()\n",
    "    new_msg.header = msg.header\n",
    "    new_msg.height = msg.height\n",
    "    new_msg.width = msg.width\n",
    "    new_msg.fields = msg.fields\n",
    "    new_msg.is_bigendian = msg.is_bigendian\n",
    "    new_msg.point_step = msg.point_step\n",
    "    new_msg.row_step = msg.row_step\n",
    "    new_msg.data = msg.data\n",
    "    new_msg.is_dense = msg.is_dense\n",
    "    return new_msg\n",
    "\n",
    "topics = [pointcloud_topic]\n",
    "counter = 0\n",
    "for topic, msg, t in ros_bag.read_messages(topics=topics):\n",
    "#     print topic\n",
    "    counter += 1\n",
    "    if counter < 50:\n",
    "        continue\n",
    "    if topic == pointcloud_topic:\n",
    "        pointcloud_msg = copy_msg(msg)\n",
    "        break\n",
    "        \n",
    "ros_bag.close()\n",
    "print pointcloud_msg.header\n",
    "pc = ros_numpy.point_cloud2.pointcloud2_to_xyz_array(pointcloud_msg, remove_nans=True)\n",
    "\n",
    "\n",
    "print pc.shape\n",
    "\n",
    "# use rosrun tf tf_echo /base /camera_carmine_1_rgb_optical_frame\n",
    "\n",
    "translation = [0.593, 0.027, 0.588]\n",
    "quat_xyzw = [0.711, -0.702, 0.005, -0.041]\n",
    "\n",
    "d = dict()\n",
    "d['translation'] = dict()\n",
    "d['translation']['x'] = translation[0]\n",
    "d['translation']['y'] = translation[1]\n",
    "d['translation']['z'] = translation[2]\n",
    "\n",
    "d['quaternion'] = dict()\n",
    "d['quaternion']['w'] = quat_xyzw[3]\n",
    "d['quaternion']['x'] = quat_xyzw[0]\n",
    "d['quaternion']['y'] = quat_xyzw[1]\n",
    "d['quaternion']['z'] = quat_xyzw[2]\n",
    "\n",
    "\n",
    "T_H_pc = utils.homogenous_transform_from_dict(d)\n",
    "print T_H_pc\n",
    "\n",
    "pc_world_frame = perception_utils.transform_pointcloud(pc, T_H_pc)\n",
    "\n",
    "\n",
    "print np.max(pc_world_frame[:,2])\n",
    "\n",
    "# print pc.shape\n",
    "# print pc_world_frame.shape\n",
    "\n",
    "# idx = int(1e5)\n",
    "# print pc[idx,:]\n",
    "# print pc_world_frame[idx,:]\n"
   ]
  },
  {
   "cell_type": "code",
   "execution_count": 4,
   "metadata": {},
   "outputs": [
    {
     "name": "stdout",
     "output_type": "stream",
     "text": [
      "pc.shape (252557, 3)\n",
      "<class 'spartan.perception.heightmap.HeightMap'>\n",
      "<type 'numpy.ndarray'>\n",
      "<class 'spartan.perception.heightmap.HeightMap'>\n"
     ]
    }
   ],
   "source": [
    "hm = HeightMap.make_default()\n",
    "hm.insert_pointcloud_into_heightmap(pc, T_H_pc)\n",
    "print \"pc.shape\", pc.shape\n",
    "print type(hm)\n",
    "print type(hm.heightmap)\n",
    "print type(hm)"
   ]
  },
  {
   "cell_type": "code",
   "execution_count": 5,
   "metadata": {},
   "outputs": [
    {
     "name": "stdout",
     "output_type": "stream",
     "text": [
      "(252557, 3)\n",
      "(252557, 3)\n",
      "hm._pc_idx_valid.shape (19928, 3)\n",
      "(252557,)\n",
      "False\n",
      "19928\n",
      "5621\n",
      "0.0975\n"
     ]
    }
   ],
   "source": [
    "print hm._idx_valid_matrix.shape\n",
    "print hm._pc_idx.shape\n",
    "print \"hm._pc_idx_valid.shape\", hm._pc_idx_valid.shape\n",
    "\n",
    "\n",
    "\n",
    "\n",
    "print hm._idx_valid.shape\n",
    "print hm._idx_valid[0]\n",
    "print np.count_nonzero(hm._idx_valid)\n",
    "print np.count_nonzero(hm._occupancy_grid)\n",
    "print np.max(hm._heightmap)"
   ]
  },
  {
   "cell_type": "code",
   "execution_count": 23,
   "metadata": {},
   "outputs": [
    {
     "name": "stdout",
     "output_type": "stream",
     "text": [
      "(3687,)\n",
      "(3687, 2)\n"
     ]
    }
   ],
   "source": [
    "heightmap = hm._heightmap\n",
    "idx = np.where(hm._heightmap > 0)[0]\n",
    "print idx.shape\n",
    "z_height = heightmap[heightmap > 0]\n",
    "xy_coords = hm._xy_grid[heightmap > 0]\n",
    "print xy_coords.shape\n",
    "N = xy_coords.shape[0]\n",
    "pch = np.concatenate((xy_coords, z_height.reshape([N,1])), axis=1)\n",
    "pch_rec = np.array(pch, dtype=[('x', float), ('y', float), ('z', float)])"
   ]
  },
  {
   "cell_type": "code",
   "execution_count": 28,
   "metadata": {},
   "outputs": [
    {
     "name": "stdout",
     "output_type": "stream",
     "text": [
      "3687\n"
     ]
    }
   ],
   "source": [
    "pc2 = ros_numpy.point_cloud2.array_to_pointcloud2(pch_rec)\n",
    "print pc2.height"
   ]
  },
  {
   "cell_type": "code",
   "execution_count": null,
   "metadata": {},
   "outputs": [],
   "source": []
  }
 ],
 "metadata": {
  "kernelspec": {
   "display_name": "Python 2",
   "language": "python",
   "name": "python2"
  },
  "language_info": {
   "codemirror_mode": {
    "name": "ipython",
    "version": 2
   },
   "file_extension": ".py",
   "mimetype": "text/x-python",
   "name": "python",
   "nbconvert_exporter": "python",
   "pygments_lexer": "ipython2",
   "version": "2.7.12"
  }
 },
 "nbformat": 4,
 "nbformat_minor": 2
}
