{
 "cells": [
  {
   "cell_type": "code",
   "execution_count": null,
   "metadata": {},
   "outputs": [],
   "source": [
    "import numpy as np\n",
    "import spartan.perception.utils as perception_utils\n",
    "import spartan.utils.utils as utils\n",
    "from spartan.perception.heightmap import HeightMap\n",
    "import ros\n",
    "import ros_numpy\n",
    "import rosbag\n",
    "import sensor_msgs\n",
    "import matplotlib.pyplot as plt\n",
    "%matplotlib inline  "
   ]
  },
  {
   "cell_type": "code",
   "execution_count": null,
   "metadata": {},
   "outputs": [],
   "source": [
    "depth_img_filename = \"/home/manuelli/spartan/data_volume/pdc/logs_proto/2018-11-16-22-22-45/processed/images/000000_depth.png\"\n",
    "pose_data_filename = \"/home/manuelli/spartan/data_volume/pdc/logs_proto/2018-11-16-22-22-45/processed/images/pose_data.yaml\"\n",
    "pose_data = utils.getDictFromYamlFilename(pose_data_filename)\n",
    "camera_pose = pose_data[0]\n",
    "print camera_pose"
   ]
  },
  {
   "cell_type": "code",
   "execution_count": null,
   "metadata": {
    "scrolled": true
   },
   "outputs": [],
   "source": [
    "ros_bag_filename = \"/home/manuelli/spartan/data_volume/spartan/rosbag/shoe_globalwin_brown_down_right_2018-12-04-00-31-51.bag\"\n",
    "ros_bag = rosbag.Bag(ros_bag_filename, \"r\")\n",
    "\n",
    "pointcloud_topic = \"/camera_carmine_1/depth_registered/points\"\n",
    "pointcloud_msg = None\n",
    "\n",
    "\n",
    "def copy_msg(msg):\n",
    "    new_msg = sensor_msgs.msg.PointCloud2()\n",
    "    new_msg.header = msg.header\n",
    "    new_msg.height = msg.height\n",
    "    new_msg.width = msg.width\n",
    "    new_msg.fields = msg.fields\n",
    "    new_msg.is_bigendian = msg.is_bigendian\n",
    "    new_msg.point_step = msg.point_step\n",
    "    new_msg.row_step = msg.row_step\n",
    "    new_msg.data = msg.data\n",
    "    new_msg.is_dense = msg.is_dense\n",
    "    return new_msg\n",
    "\n",
    "topics = [pointcloud_topic]\n",
    "counter = 0\n",
    "for topic, msg, t in ros_bag.read_messages(topics=topics):\n",
    "#     print topic\n",
    "    counter += 1\n",
    "    if counter < 50:\n",
    "        continue\n",
    "    if topic == pointcloud_topic:\n",
    "        pointcloud_msg = copy_msg(msg)\n",
    "        break\n",
    "        \n",
    "ros_bag.close()\n",
    "print pointcloud_msg.header\n",
    "pc = ros_numpy.point_cloud2.pointcloud2_to_xyz_array(pointcloud_msg, remove_nans=True)\n",
    "\n",
    "\n",
    "print pc.shape\n",
    "\n",
    "# use rosrun tf tf_echo /base /camera_carmine_1_rgb_optical_frame\n",
    "\n",
    "translation = [0.593, 0.027, 0.588]\n",
    "quat_xyzw = [0.711, -0.702, 0.005, -0.041]\n",
    "\n",
    "d = dict()\n",
    "d['translation'] = dict()\n",
    "d['translation']['x'] = translation[0]\n",
    "d['translation']['y'] = translation[1]\n",
    "d['translation']['z'] = translation[2]\n",
    "\n",
    "d['quaternion'] = dict()\n",
    "d['quaternion']['w'] = quat_xyzw[3]\n",
    "d['quaternion']['x'] = quat_xyzw[0]\n",
    "d['quaternion']['y'] = quat_xyzw[1]\n",
    "d['quaternion']['z'] = quat_xyzw[2]\n",
    "\n",
    "\n",
    "T_H_pc = utils.homogenous_transform_from_dict(d)\n",
    "print T_H_pc\n",
    "\n",
    "pc_world_frame = perception_utils.transform_pointcloud(pc, T_H_pc)\n",
    "\n",
    "\n",
    "print np.max(pc_world_frame[:,2])\n",
    "\n",
    "# print pc.shape\n",
    "# print pc_world_frame.shape\n",
    "\n",
    "# idx = int(1e5)\n",
    "# print pc[idx,:]\n",
    "# print pc_world_frame[idx,:]\n"
   ]
  },
  {
   "cell_type": "code",
   "execution_count": null,
   "metadata": {},
   "outputs": [],
   "source": [
    "hm = HeightMap.make_default()\n",
    "hm.insert_pointcloud_into_heightmap(pc, T_H_pc)\n",
    "\n",
    "plt.imshow(hm.heightmap)\n",
    "plt.show()\n"
   ]
  },
  {
   "cell_type": "code",
   "execution_count": null,
   "metadata": {},
   "outputs": [],
   "source": [
    "print hm._idx_valid_matrix.shape\n",
    "print hm._pc_idx.shape\n",
    "print \"hm._pc_idx_valid.shape\", hm._pc_idx_valid.shape\n",
    "\n",
    "\n",
    "\n",
    "\n",
    "print hm._idx_valid.shape\n",
    "print hm._idx_valid[0]\n",
    "print np.count_nonzero(hm._idx_valid)\n",
    "print np.count_nonzero(hm._occupancy_grid)\n",
    "print np.max(hm._heightmap)"
   ]
  },
  {
   "cell_type": "code",
   "execution_count": null,
   "metadata": {},
   "outputs": [],
   "source": [
    "a = np.zeros([3,2])\n",
    "a[1,1] = 1\n",
    "print a\n",
    "\n",
    "a_rec = np.recarray(3, dtype=[('x', np.float32), ('y', np.float32)])\n",
    "a_rec['x'] = a[:,0]\n",
    "a_rec['y'] = a[:,1]\n",
    "\n",
    "print a_rec"
   ]
  },
  {
   "cell_type": "code",
   "execution_count": null,
   "metadata": {},
   "outputs": [],
   "source": [
    "pc2 = ros_numpy.point_cloud2.array_to_pointcloud2(pch_rec)\n",
    "print pc2.height"
   ]
  },
  {
   "cell_type": "code",
   "execution_count": null,
   "metadata": {},
   "outputs": [],
   "source": []
  }
 ],
 "metadata": {
  "kernelspec": {
   "display_name": "Python 2",
   "language": "python",
   "name": "python2"
  },
  "language_info": {
   "codemirror_mode": {
    "name": "ipython",
    "version": 2
   },
   "file_extension": ".py",
   "mimetype": "text/x-python",
   "name": "python",
   "nbconvert_exporter": "python",
   "pygments_lexer": "ipython2",
   "version": "2.7.12"
  }
 },
 "nbformat": 4,
 "nbformat_minor": 2
}
